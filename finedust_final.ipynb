{
 "cells": [
  {
   "cell_type": "code",
   "execution_count": 1,
   "metadata": {},
   "outputs": [],
   "source": [
    "import os  \n",
    "import pandas as pd\n",
    "import glob  \n",
    "from datetime import datetime\n",
    "from dateutil.parser import parse\n",
    "from sklearn.feature_extraction.text import HashingVectorizer\n",
    "import re\n",
    "import pandas as pd\n",
    "import seaborn as sns\n",
    "import matplotlib.pyplot as plt\n",
    "from sklearn.model_selection import train_test_split\n",
    "from sklearn.ensemble import RandomForestRegressor\n",
    "from sklearn.metrics import mean_absolute_error, mean_squared_error\n",
    "from math import sqrt"
   ]
  },
  {
   "cell_type": "code",
   "execution_count": 2,
   "metadata": {},
   "outputs": [],
   "source": [
    "def to_month_day(date_str):\n",
    "    try:\n",
    "        # 날짜를 파싱하여 datetime 객체로 변환\n",
    "        # print(date_str)\n",
    "        parsed_date = parse(date_str)\n",
    "        # \"월-일\" 형식으로 변환\n",
    "        month_day = parsed_date.strftime(\"%m-%d\")\n",
    "        return month_day\n",
    "    except ValueError:\n",
    "        print(\"exception occurs\")\n",
    "        return None  # 잘못된 날짜 형식에 대한 처리\n",
    "\n",
    "def to_hour_minute(time_str):\n",
    "    try:\n",
    "        # 시간을 파싱하여 datetime 객체로 변환\n",
    "        parsed_time = datetime.strptime(time_str, '%H:%M:%S' if ':' in time_str[5:] else '%H:%M')\n",
    "        # \"시간:분\" 형식으로 변환\n",
    "        hour_minute = parsed_time.strftime(\"%H:%M\")\n",
    "        return hour_minute\n",
    "    except ValueError:\n",
    "        return None  # 잘못된 시간 형식에 대한 처리\n",
    "\n",
    "def to_address(x):\n",
    "    y = re.sub(r\"[^ㄱ-ㅣ가-힣\\s]\", \"\", x)\n",
    "    return y\n",
    "\n",
    "def to_hour(x):\n",
    "    return int(x[:2])\n",
    "\n",
    "def to_dateM(x):\n",
    "    y = int(x[:2]) * 30 + int(x[3:])\n",
    "    return y"
   ]
  },
  {
   "cell_type": "code",
   "execution_count": 17,
   "metadata": {},
   "outputs": [],
   "source": [
    "def load_process(combined_dataframe):\n",
    "\n",
    "    # preprocess\n",
    "    combined_dataframe['기온'] = combined_dataframe['기온'].fillna(combined_dataframe['기온(℃)'])\n",
    "    combined_dataframe['기온'] = combined_dataframe['기온'].fillna(combined_dataframe['기온 (℃)'])\n",
    "    combined_dataframe['습도'] = combined_dataframe['습도'].fillna(combined_dataframe['습도(%)'])\n",
    "    combined_dataframe['습도'] = combined_dataframe['습도'].fillna(combined_dataframe['습도 (%)'])\n",
    "    combined_dataframe['재비산먼지 평균농도'] = combined_dataframe['재비산먼지 평균농도'].fillna(combined_dataframe['재비산먼지평균농도(㎍/㎥)'])\n",
    "    combined_dataframe['재비산먼지 평균농도'] = combined_dataframe['재비산먼지 평균농도'].fillna(combined_dataframe['재비산먼지 평균농도(㎍/㎥)'])\n",
    "    combined_dataframe['재비산먼지 평균농도'] = combined_dataframe['재비산먼지 평균농도'].fillna(combined_dataframe['재비산먼지평균농도'])\n",
    "    combined_dataframe = combined_dataframe.drop(labels=['H', '재비산먼지평균농도', '기온(℃)', '습도(%)', '재비산먼지평균농도(㎍/㎥)', '기온 (℃)', '습도 (%)', '재비산먼지 평균농도(㎍/㎥)'], axis=1)\n",
    "\n",
    "    df = combined_dataframe.dropna()\n",
    "\n",
    "    # feature engineering\n",
    "    df['date'] = df['측정일자'].apply(to_month_day)\n",
    "    df['time'] = df['측정시간'].apply(to_hour_minute)\n",
    "    df = df.drop(['측정일자', '측정시간'], axis=1)\n",
    "    df['start_city'] = df['시작점'].apply(to_address)\n",
    "    df['end_city'] = df['종점'].apply(to_address)\n",
    "    df = df.drop(['지역', '지역명', '도로명', '시작점', '종점'], axis=1)\n",
    "\n",
    "    hash_vectorizer = HashingVectorizer(n_features=3)  # n_features는 원하는 차원 수\n",
    "    address_hashed1 = hash_vectorizer.fit_transform(df['start_city'])\n",
    "    address_hashed2 = hash_vectorizer.fit_transform(df['end_city'])\n",
    "\n",
    "    df[['start_city_c1', 'start_city_c2', 'start_city_c3']] = address_hashed1.toarray()\n",
    "    df[['end_city_c1', 'end_city_c2', 'end_city_c3']] = address_hashed2.toarray()\n",
    "\n",
    "    df_onehot = pd.get_dummies(df, columns=['오염범례'], drop_first=True)\n",
    "    df_onehot['hour'] = df_onehot['time'].apply(to_hour)\n",
    "    df_onehot['date'] = df_onehot['date'].apply(to_dateM)\n",
    "    df = df_onehot.drop(['time', 'start_city', 'end_city'], axis=1)\n",
    "\n",
    "    return df\n",
    "\n",
    "\n"
   ]
  },
  {
   "cell_type": "code",
   "execution_count": 24,
   "metadata": {},
   "outputs": [],
   "source": [
    "def preprocess_X(df):\n",
    "    # df['기온'] = df['기온'].fillna(df['기온(℃)'])\n",
    "    # df['기온'] = df['기온'].fillna(df['기온 (℃)'])\n",
    "    # df['습도'] = df['습도'].fillna(df['습도(%)'])\n",
    "    # df['습도'] = df['습도'].fillna(df['습도 (%)'])\n",
    "    # df = df.drop(labels=['H', '기온(℃)', '습도(%)', '기온 (℃)', '습도 (%)'], axis=1)\n",
    "\n",
    "    df = df.dropna()\n",
    "\n",
    "    # feature engineering\n",
    "    df['date'] = df['측정일자'].apply(to_month_day)\n",
    "    df['time'] = df['측정시간'].apply(to_hour_minute)\n",
    "    df = df.drop(['측정일자', '측정시간'], axis=1)\n",
    "    df['start_city'] = df['시작점'].apply(to_address)\n",
    "    df['end_city'] = df['종점'].apply(to_address)\n",
    "    df = df.drop(['지역', '지역명', '도로명', '시작점', '종점'], axis=1)\n",
    "\n",
    "    hash_vectorizer = HashingVectorizer(n_features=3)  # n_features는 원하는 차원 수\n",
    "    address_hashed1 = hash_vectorizer.fit_transform(df['start_city'])\n",
    "    address_hashed2 = hash_vectorizer.fit_transform(df['end_city'])\n",
    "\n",
    "    df[['start_city_c1', 'start_city_c2', 'start_city_c3']] = address_hashed1.toarray()\n",
    "    df[['end_city_c1', 'end_city_c2', 'end_city_c3']] = address_hashed2.toarray()\n",
    "\n",
    "    df_onehot = pd.get_dummies(df, columns=['오염범례'], drop_first=True)\n",
    "    df_onehot['hour'] = df_onehot['time'].apply(to_hour)\n",
    "    df_onehot['date'] = df_onehot['date'].apply(to_dateM)\n",
    "    df = df_onehot.drop(['time', 'start_city', 'end_city'], axis=1)\n",
    "\n",
    "    return df"
   ]
  },
  {
   "cell_type": "code",
   "execution_count": 19,
   "metadata": {},
   "outputs": [],
   "source": [
    "def modeling(df):\n",
    "    X = df.drop(['재비산먼지 평균농도'], axis=1)\n",
    "    y = df[['재비산먼지 평균농도']]\n",
    "\n",
    "    # 데이터셋 분할 (훈련 세트와 테스트 세트)\n",
    "    X_train, X_test, y_train, y_test = train_test_split(X, y, test_size=0.2, random_state=42)\n",
    "\n",
    "    # Random Forest 분류 모델 생성\n",
    "    rf = RandomForestRegressor(n_estimators=100, random_state=42, max_depth=5)\n",
    "\n",
    "    # 모델 훈련\n",
    "    rf.fit(X_train, y_train)\n",
    "\n",
    "    # 예측\n",
    "    y_pred = rf.predict(X_test)\n",
    "    y_true = y_test['재비산먼지 평균농도']\n",
    "\n",
    "    mae = mean_absolute_error(y_test, y_pred)\n",
    "    print(\"\\nMAE (Mean Absolute Error):\", mae)\n",
    "\n",
    "    mse = mean_squared_error(y_test, y_pred)\n",
    "    print(\"MSE (Mean Squared Error):\", mse)\n",
    "\n",
    "    rmse = sqrt(mse)\n",
    "    print(\"RMSE (Root Mean Squared Error):\", rmse)\n",
    "\n",
    "    return rf, y_pred, y_true"
   ]
  },
  {
   "cell_type": "code",
   "execution_count": 6,
   "metadata": {},
   "outputs": [
    {
     "ename": "TypeError",
     "evalue": "expected str, bytes or os.PathLike object, not DataFrame",
     "output_type": "error",
     "traceback": [
      "\u001b[1;31m---------------------------------------------------------------------------\u001b[0m",
      "\u001b[1;31mTypeError\u001b[0m                                 Traceback (most recent call last)",
      "Cell \u001b[1;32mIn[6], line 7\u001b[0m\n\u001b[0;32m      3\u001b[0m dataframes \u001b[38;5;241m=\u001b[39m [pd\u001b[38;5;241m.\u001b[39mread_csv(file, encoding\u001b[38;5;241m=\u001b[39m\u001b[38;5;124m'\u001b[39m\u001b[38;5;124mcp949\u001b[39m\u001b[38;5;124m'\u001b[39m) \u001b[38;5;28;01mfor\u001b[39;00m file \u001b[38;5;129;01min\u001b[39;00m csv_files]\n\u001b[0;32m      5\u001b[0m combined_dataframe \u001b[38;5;241m=\u001b[39m pd\u001b[38;5;241m.\u001b[39mconcat(dataframes, ignore_index\u001b[38;5;241m=\u001b[39m\u001b[38;5;28;01mTrue\u001b[39;00m)\n\u001b[1;32m----> 7\u001b[0m df \u001b[38;5;241m=\u001b[39m load_process(combined_dataframe)\n\u001b[0;32m      8\u001b[0m model, y_pred, y_true \u001b[38;5;241m=\u001b[39m modeling(df)\n\u001b[0;32m     10\u001b[0m \u001b[38;5;28mprint\u001b[39m()\n",
      "Cell \u001b[1;32mIn[3], line 3\u001b[0m, in \u001b[0;36mload_process\u001b[1;34m(path)\u001b[0m\n\u001b[0;32m      1\u001b[0m \u001b[38;5;28;01mdef\u001b[39;00m \u001b[38;5;21mload_process\u001b[39m(path):\n\u001b[0;32m      2\u001b[0m     \u001b[38;5;66;03m# all csv files\u001b[39;00m\n\u001b[1;32m----> 3\u001b[0m     csv_files \u001b[38;5;241m=\u001b[39m glob\u001b[38;5;241m.\u001b[39mglob(os\u001b[38;5;241m.\u001b[39mpath\u001b[38;5;241m.\u001b[39mjoin(path, \u001b[38;5;124m\"\u001b[39m\u001b[38;5;124m*.csv\u001b[39m\u001b[38;5;124m\"\u001b[39m))\n\u001b[0;32m      4\u001b[0m     dataframes \u001b[38;5;241m=\u001b[39m [pd\u001b[38;5;241m.\u001b[39mread_csv(file, encoding\u001b[38;5;241m=\u001b[39m\u001b[38;5;124m'\u001b[39m\u001b[38;5;124mcp949\u001b[39m\u001b[38;5;124m'\u001b[39m) \u001b[38;5;28;01mfor\u001b[39;00m file \u001b[38;5;129;01min\u001b[39;00m csv_files]\n\u001b[0;32m      6\u001b[0m     combined_dataframe \u001b[38;5;241m=\u001b[39m pd\u001b[38;5;241m.\u001b[39mconcat(dataframes, ignore_index\u001b[38;5;241m=\u001b[39m\u001b[38;5;28;01mTrue\u001b[39;00m)\n",
      "File \u001b[1;32m<frozen ntpath>:108\u001b[0m, in \u001b[0;36mjoin\u001b[1;34m(path, *paths)\u001b[0m\n",
      "\u001b[1;31mTypeError\u001b[0m: expected str, bytes or os.PathLike object, not DataFrame"
     ]
    }
   ],
   "source": [
    "# all csv files\n",
    "csv_files = glob.glob(os.path.join(\"./\", \"*.csv\"))\n",
    "dataframes = [pd.read_csv(file, encoding='cp949') for file in csv_files]\n",
    "\n",
    "combined_dataframe = pd.concat(dataframes, ignore_index=True)\n",
    "\n",
    "\n"
   ]
  },
  {
   "cell_type": "code",
   "execution_count": 20,
   "metadata": {},
   "outputs": [
    {
     "name": "stderr",
     "output_type": "stream",
     "text": [
      "C:\\Users\\dbgpw\\AppData\\Local\\Temp\\ipykernel_7792\\3471987278.py:16: SettingWithCopyWarning: \n",
      "A value is trying to be set on a copy of a slice from a DataFrame.\n",
      "Try using .loc[row_indexer,col_indexer] = value instead\n",
      "\n",
      "See the caveats in the documentation: https://pandas.pydata.org/pandas-docs/stable/user_guide/indexing.html#returning-a-view-versus-a-copy\n",
      "  df['date'] = df['측정일자'].apply(to_month_day)\n",
      "C:\\Users\\dbgpw\\AppData\\Local\\Temp\\ipykernel_7792\\3471987278.py:17: SettingWithCopyWarning: \n",
      "A value is trying to be set on a copy of a slice from a DataFrame.\n",
      "Try using .loc[row_indexer,col_indexer] = value instead\n",
      "\n",
      "See the caveats in the documentation: https://pandas.pydata.org/pandas-docs/stable/user_guide/indexing.html#returning-a-view-versus-a-copy\n",
      "  df['time'] = df['측정시간'].apply(to_hour_minute)\n",
      "C:\\Users\\dbgpw\\AppData\\Local\\Temp\\ipykernel_7792\\1905079426.py:12: DataConversionWarning: A column-vector y was passed when a 1d array was expected. Please change the shape of y to (n_samples,), for example using ravel().\n",
      "  rf.fit(X_train, y_train)\n"
     ]
    },
    {
     "name": "stdout",
     "output_type": "stream",
     "text": [
      "\n",
      "MAE (Mean Absolute Error): 24.88370819024264\n",
      "MSE (Mean Squared Error): 9873.335706710774\n",
      "RMSE (Root Mean Squared Error): 99.36466025056782\n"
     ]
    }
   ],
   "source": [
    "df = load_process(combined_dataframe)\n",
    "model, y_pred, y_true = modeling(df)\n"
   ]
  },
  {
   "cell_type": "code",
   "execution_count": 37,
   "metadata": {},
   "outputs": [],
   "source": [
    "df = pd.DataFrame([['05-11', '06:17', '경기도 수원시', '경기도', '경기도 수원시 영통구 영통동', '경희대학교 국제캠퍼스', '수원역', '보통', 12, 81],\n",
    "                    ['05-11', '06:17', '경기도 수원시', '경기도', '경기도 수원시 영통구 영통동', '경희대학교 국제캠퍼스', '수원역', '좋음', 12, 81],\n",
    "                    ['05-11', '06:17', '강원도 양양', '강원도', '강원도 양양군', '양양', '강원도 양양군 서면', '매우좋음', 17, 40],\n",
    "                    ['05-11', '06:32', '경상북도 안동', '경상북도', '경상북도 안동시', '경상북도 안동시', '경상북도 안동시 풍천면', '매우나쁨' ,13, 85],\n",
    "                    ['05-11', '06:33', '서울 마곡동', '서울시', '서울시 마곡동', '서울시 마곡동', '서울 양천구 오목로', '나쁨', 17, 74],\n",
    "                    ['05-11', '06:33', '부산 해운대', '부산광역시', '부산광역시 중구', '부산광역시 중구', '부산 해운대구 동백로', '보통', 15, 80],\n",
    "                    ['05-11', '06:33', '경기도 성남시', '경기도', '경기도 성남시', '경기도 성남시', '경기도 수원시 팔달구', '보통', 16, 71]],\n",
    "                columns=['측정일자', '측정시간', '지역', '지역명', '도로명', '시작점', '종점', '오염범례', '기온', '습도'])\n",
    "\n",
    "test_data = preprocess_X(df)\n",
    "final_pred = model.predict(test_data)\n",
    "# df"
   ]
  },
  {
   "cell_type": "code",
   "execution_count": 38,
   "metadata": {},
   "outputs": [
    {
     "data": {
      "text/plain": [
       "array([121.73401203,  69.85289268,  21.76703301, 414.90678292,\n",
       "       174.27464328, 121.90769975, 121.6386999 ])"
      ]
     },
     "execution_count": 38,
     "metadata": {},
     "output_type": "execute_result"
    }
   ],
   "source": [
    "final_pred"
   ]
  },
  {
   "cell_type": "code",
   "execution_count": null,
   "metadata": {},
   "outputs": [],
   "source": []
  }
 ],
 "metadata": {
  "kernelspec": {
   "display_name": "base",
   "language": "python",
   "name": "python3"
  },
  "language_info": {
   "codemirror_mode": {
    "name": "ipython",
    "version": 3
   },
   "file_extension": ".py",
   "mimetype": "text/x-python",
   "name": "python",
   "nbconvert_exporter": "python",
   "pygments_lexer": "ipython3",
   "version": "3.11.3"
  }
 },
 "nbformat": 4,
 "nbformat_minor": 2
}
